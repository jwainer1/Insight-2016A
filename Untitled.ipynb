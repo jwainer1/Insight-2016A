{
 "cells": [
  {
   "cell_type": "code",
   "execution_count": 1,
   "metadata": {
    "collapsed": false
   },
   "outputs": [
    {
     "data": {
      "image/png": "[encoded data removed]",
      "text/plain": [
       "<matplotlib.figure.Figure at 0x7fb3be6c5510>"
      ]
     },
     "metadata": {},
     "output_type": "display_data"
    }
   ],
   "source": [
    "%matplotlib inline\n",
    "import matplotlib.pyplot as plt\n",
    "import matplotlib.patches as mpatches\n",
    "\n",
    "dpi = 80\n",
    "fig = plt.figure(figsize=(4, 1.6),dpi=dpi)\n",
    "\n",
    "def add_background():\n",
    "    ax = fig.add_axes([0., 0., 1., 1.], axisbg='black')\n",
    "    rect = mpatches.Rectangle([0, .86], 0.05, 0.14, ec=\"none\", facecolor='black')\n",
    "    ax.add_patch(rect)\n",
    "    rect = mpatches.Rectangle([0.05, .86], 0.05, 0.14, ec=\"none\", facecolor='gray')\n",
    "    ax.add_patch(rect)\n",
    "    rect = mpatches.Rectangle([0, 0.72], 0.05, 0.14, ec=\"none\", facecolor='gray')\n",
    "    ax.add_patch(rect)\n",
    "    rect = mpatches.Rectangle([.95, 0], 0.05, 0.14, ec=\"none\", facecolor='black')\n",
    "    ax.add_patch(rect)\n",
    "    rect = mpatches.Rectangle([.90, 0], 0.05, 0.14, ec=\"none\", facecolor='gray')\n",
    "    ax.add_patch(rect)\n",
    "    rect = mpatches.Rectangle([.95, .14], 0.05, 0.14, ec=\"none\", facecolor='gray')\n",
    "    ax.add_patch(rect)\n",
    "    ax.set_axis_off()\n",
    "    return ax\n",
    "\n",
    "def add_insight_text(ax):\n",
    "    ax.text(0.52, 0.5, 'INSIGHT', color='black', fontsize=45,\n",
    "               ha='center', va='center', alpha=1.0, transform=ax.transAxes)\n",
    "\n",
    "\n",
    "if __name__ == '__main__':\n",
    "    main_axes = add_background()\n",
    "    add_insight_text(main_axes)\n",
    "    plt.show()"
   ]
  },
  {
   "cell_type": "code",
   "execution_count": null,
   "metadata": {
    "collapsed": true
   },
   "outputs": [],
   "source": []
  }
 ],
 "metadata": {
  "kernelspec": {
   "display_name": "Python 2",
   "language": "python",
   "name": "python2"
  },
  "language_info": {
   "codemirror_mode": {
    "name": "ipython",
    "version": 2
   },
   "file_extension": ".py",
   "mimetype": "text/x-python",
   "name": "python",
   "nbconvert_exporter": "python",
   "pygments_lexer": "ipython2",
   "version": "2.7.11"
  }
 },
 "nbformat": 4,
 "nbformat_minor": 0
}
